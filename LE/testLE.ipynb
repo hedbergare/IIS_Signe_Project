{
 "cells": [
  {
   "cell_type": "code",
   "execution_count": 1,
   "metadata": {},
   "outputs": [],
   "source": [
    "\n",
    "import torch\n",
    "from torch import nn\n",
    "from testUnet import UNetModel\n",
    "from ladda_data import prepare_all_data\n",
    "\n",
    "device = \"cuda\" if torch.cuda.is_available() else \"cpu\"\n",
    "\n",
    "\n"
   ]
  },
  {
   "cell_type": "code",
   "execution_count": 2,
   "metadata": {},
   "outputs": [],
   "source": [
    "x = UNetModel(3, 3, 3, 64)"
   ]
  },
  {
   "cell_type": "code",
   "execution_count": 3,
   "metadata": {},
   "outputs": [],
   "source": [
    "#Load data\n",
    "train_data,test_data=prepare_all_data(0.03)"
   ]
  },
  {
   "cell_type": "code",
   "execution_count": 8,
   "metadata": {},
   "outputs": [
    {
     "name": "stdout",
     "output_type": "stream",
     "text": [
      "tensor([[[172., 129.,  96.,  ..., 218., 214., 208.],\n",
      "         [217., 212., 209.,  ..., 196., 194., 190.],\n",
      "         [201., 200., 193.,  ..., 179., 177., 185.],\n",
      "         ...,\n",
      "         [217., 215., 213.,  ...,  58.,  55.,  70.],\n",
      "         [ 55.,  55.,  67.,  ...,  38.,  42.,  71.],\n",
      "         [ 37.,  44.,  69.,  ..., 227., 230., 239.]],\n",
      "\n",
      "        [[169., 123.,  82.,  ..., 217., 215., 213.],\n",
      "         [217., 215., 213.,  ...,  55.,  55.,  67.],\n",
      "         [ 55.,  55.,  67.,  ...,  37.,  44.,  69.],\n",
      "         ...,\n",
      "         [203., 201., 202.,  ..., 173., 151., 159.],\n",
      "         [178., 156., 164.,  ..., 194., 208., 220.],\n",
      "         [196., 207., 218.,  ..., 225., 233., 242.]],\n",
      "\n",
      "        [[162., 119.,  84.,  ..., 203., 201., 202.],\n",
      "         [203., 201., 202.,  ..., 172., 153., 157.],\n",
      "         [176., 157., 161.,  ..., 196., 204., 220.],\n",
      "         ...,\n",
      "         [  0.,   0.,   2.,  ...,   8.,   7.,  10.],\n",
      "         [  9.,   6.,  12.,  ..., 189., 198., 221.],\n",
      "         [192., 202., 222.,  ..., 140., 154., 164.]]])\n"
     ]
    }
   ],
   "source": [
    "print(train_data[1][0])"
   ]
  },
  {
   "cell_type": "code",
   "execution_count": 9,
   "metadata": {},
   "outputs": [],
   "source": [
    "from testUnet import UNetModel"
   ]
  },
  {
   "cell_type": "code",
   "execution_count": 4,
   "metadata": {},
   "outputs": [
    {
     "name": "stdout",
     "output_type": "stream",
     "text": [
      "x torch.Size([128, 306, 226])\n",
      "128\n",
      "torch.Size([314, 234])\n"
     ]
    },
    {
     "ename": "RuntimeError",
     "evalue": "Tensors must have same number of dimensions: got 3 and 2",
     "output_type": "error",
     "traceback": [
      "\u001b[0;31m---------------------------------------------------------------------------\u001b[0m",
      "\u001b[0;31mRuntimeError\u001b[0m                              Traceback (most recent call last)",
      "Cell \u001b[0;32mIn [4], line 1\u001b[0m\n\u001b[0;32m----> 1\u001b[0m out \u001b[39m=\u001b[39m x(train_data[\u001b[39m1\u001b[39;49m][\u001b[39m0\u001b[39;49m])\n",
      "File \u001b[0;32m/Library/Frameworks/Python.framework/Versions/3.9/lib/python3.9/site-packages/torch/nn/modules/module.py:1130\u001b[0m, in \u001b[0;36mModule._call_impl\u001b[0;34m(self, *input, **kwargs)\u001b[0m\n\u001b[1;32m   1126\u001b[0m \u001b[39m# If we don't have any hooks, we want to skip the rest of the logic in\u001b[39;00m\n\u001b[1;32m   1127\u001b[0m \u001b[39m# this function, and just call forward.\u001b[39;00m\n\u001b[1;32m   1128\u001b[0m \u001b[39mif\u001b[39;00m \u001b[39mnot\u001b[39;00m (\u001b[39mself\u001b[39m\u001b[39m.\u001b[39m_backward_hooks \u001b[39mor\u001b[39;00m \u001b[39mself\u001b[39m\u001b[39m.\u001b[39m_forward_hooks \u001b[39mor\u001b[39;00m \u001b[39mself\u001b[39m\u001b[39m.\u001b[39m_forward_pre_hooks \u001b[39mor\u001b[39;00m _global_backward_hooks\n\u001b[1;32m   1129\u001b[0m         \u001b[39mor\u001b[39;00m _global_forward_hooks \u001b[39mor\u001b[39;00m _global_forward_pre_hooks):\n\u001b[0;32m-> 1130\u001b[0m     \u001b[39mreturn\u001b[39;00m forward_call(\u001b[39m*\u001b[39;49m\u001b[39minput\u001b[39;49m, \u001b[39m*\u001b[39;49m\u001b[39m*\u001b[39;49mkwargs)\n\u001b[1;32m   1131\u001b[0m \u001b[39m# Do not call functions when jit is used\u001b[39;00m\n\u001b[1;32m   1132\u001b[0m full_backward_hooks, non_full_backward_hooks \u001b[39m=\u001b[39m [], []\n",
      "File \u001b[0;32m~/Documents/Python/Intlegenta interaktiva system/IIS_Signe_Project/LE/testUnet.py:97\u001b[0m, in \u001b[0;36mUNetModel.forward\u001b[0;34m(self, x)\u001b[0m\n\u001b[1;32m     95\u001b[0m     \u001b[39mprint\u001b[39m(\u001b[39mlen\u001b[39m(encodingFeatures))\n\u001b[1;32m     96\u001b[0m     \u001b[39mprint\u001b[39m(encodingFeatures[\u001b[39mlen\u001b[39m(encodingFeatures)\u001b[39m-\u001b[39m(\u001b[39m1\u001b[39m\u001b[39m+\u001b[39mi)]\u001b[39m.\u001b[39mshape)\n\u001b[0;32m---> 97\u001b[0m     x \u001b[39m=\u001b[39m torch\u001b[39m.\u001b[39;49mcat((x, encodingFeatures[\u001b[39mlen\u001b[39;49m(encodingFeatures)\u001b[39m-\u001b[39;49m(\u001b[39m1\u001b[39;49m\u001b[39m+\u001b[39;49mi)]))\n\u001b[1;32m     98\u001b[0m     x \u001b[39m=\u001b[39m \u001b[39mself\u001b[39m\u001b[39m.\u001b[39mdecBlocks\n\u001b[1;32m     99\u001b[0m \u001b[39mreturn\u001b[39;00m x\n",
      "\u001b[0;31mRuntimeError\u001b[0m: Tensors must have same number of dimensions: got 3 and 2"
     ]
    }
   ],
   "source": [
    "out = x(train_data[1][0])"
   ]
  }
 ],
 "metadata": {
  "kernelspec": {
   "display_name": "Python 3.9.6 64-bit",
   "language": "python",
   "name": "python3"
  },
  "language_info": {
   "codemirror_mode": {
    "name": "ipython",
    "version": 3
   },
   "file_extension": ".py",
   "mimetype": "text/x-python",
   "name": "python",
   "nbconvert_exporter": "python",
   "pygments_lexer": "ipython3",
   "version": "3.9.6"
  },
  "orig_nbformat": 4,
  "vscode": {
   "interpreter": {
    "hash": "aee8b7b246df8f9039afb4144a1f6fd8d2ca17a180786b69acc140d282b71a49"
   }
  }
 },
 "nbformat": 4,
 "nbformat_minor": 2
}
