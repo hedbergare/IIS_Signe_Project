{
 "cells": [
  {
   "cell_type": "code",
   "execution_count": 43,
   "metadata": {},
   "outputs": [],
   "source": [
    "import torch\n",
    "import numpy as np\n",
    "import math\n",
    "import pickle\n",
    "import matplotlib.pyplot as plt\n",
    "#from LE.testUnet import UNetModel\n",
    "from sklearn.datasets import make_classification\n",
    "from sklearn.svm import SVC\n",
    "from sklearn.multiclass import OneVsOneClassifier, OneVsRestClassifier\n",
    "from sklearn.metrics import plot_confusion_matrix\n",
    "from sklearn.model_selection import train_test_split\n"
   ]
  },
  {
   "attachments": {},
   "cell_type": "markdown",
   "metadata": {},
   "source": [
    "# Get the data generated from the LE model"
   ]
  },
  {
   "cell_type": "code",
   "execution_count": 38,
   "metadata": {},
   "outputs": [],
   "source": [
    "# Temporary random data for testing purposes\n",
    "test_1 = torch.rand(20, 2)\n",
    "test_2 = torch.randint(10,(20,2))\n",
    "test_3 = torch.zeros(20,2)\n",
    "test_4 = torch.tensor(([0, 15], [ 12, 13], [0, 15], [ 12, 13], [0, 15], [ 12, 13], [0, 15], [ 12, 13], [0, 15], [ 12, 13]\n",
    ",[0, 15], [ 12, 13],[0, 15], [ 12, 13],[0, 15], [ 12, 13],[0, 15], [ 12, 13],[0, 15], [ 12, 13]))\n"
   ]
  },
  {
   "cell_type": "code",
   "execution_count": null,
   "metadata": {},
   "outputs": [],
   "source": [
    "#Import the actual model and generate coordinates with it here"
   ]
  },
  {
   "attachments": {},
   "cell_type": "markdown",
   "metadata": {},
   "source": [
    "# Prepare data for GR model"
   ]
  },
  {
   "cell_type": "code",
   "execution_count": 39,
   "metadata": {},
   "outputs": [
    {
     "name": "stdout",
     "output_type": "stream",
     "text": [
      "(1, 400)\n",
      "[[ 0.          0.          0.          0.          0.          0.\n",
      "   0.          0.          0.          0.          0.          0.\n",
      "   0.          0.          0.          0.          0.          0.\n",
      "   0.          0.         12.16552506  0.         12.16552506  0.\n",
      "  12.16552506  0.         12.16552506  0.         12.16552506  0.\n",
      "  12.16552506  0.         12.16552506  0.         12.16552506  0.\n",
      "  12.16552506  0.         12.16552506  0.          0.          0.\n",
      "   0.          0.          0.          0.          0.          0.\n",
      "   0.          0.          0.          0.          0.          0.\n",
      "   0.          0.          0.          0.          0.          0.\n",
      "  12.16552506  0.         12.16552506  0.         12.16552506  0.\n",
      "  12.16552506  0.         12.16552506  0.         12.16552506  0.\n",
      "  12.16552506  0.         12.16552506  0.         12.16552506  0.\n",
      "  12.16552506  0.          0.          0.          0.          0.\n",
      "   0.          0.          0.          0.          0.          0.\n",
      "   0.          0.          0.          0.          0.          0.\n",
      "   0.          0.          0.          0.         12.16552506  0.\n",
      "  12.16552506  0.         12.16552506  0.         12.16552506  0.\n",
      "  12.16552506  0.         12.16552506  0.         12.16552506  0.\n",
      "  12.16552506  0.         12.16552506  0.         12.16552506  0.\n",
      "   0.          0.          0.          0.          0.          0.\n",
      "   0.          0.          0.          0.          0.          0.\n",
      "   0.          0.          0.          0.          0.          0.\n",
      "   0.          0.         12.16552506  0.         12.16552506  0.\n",
      "  12.16552506  0.         12.16552506  0.         12.16552506  0.\n",
      "  12.16552506  0.         12.16552506  0.         12.16552506  0.\n",
      "  12.16552506  0.         12.16552506  0.          0.          0.\n",
      "   0.          0.          0.          0.          0.          0.\n",
      "   0.          0.          0.          0.          0.          0.\n",
      "   0.          0.          0.          0.          0.          0.\n",
      "  12.16552506  0.         12.16552506  0.         12.16552506  0.\n",
      "  12.16552506  0.         12.16552506  0.         12.16552506  0.\n",
      "  12.16552506  0.         12.16552506  0.         12.16552506  0.\n",
      "  12.16552506  0.          0.          0.          0.          0.\n",
      "   0.          0.          0.          0.          0.          0.\n",
      "   0.          0.          0.          0.          0.          0.\n",
      "   0.          0.          0.          0.         12.16552506  0.\n",
      "  12.16552506  0.         12.16552506  0.         12.16552506  0.\n",
      "  12.16552506  0.         12.16552506  0.         12.16552506  0.\n",
      "  12.16552506  0.         12.16552506  0.         12.16552506  0.\n",
      "   0.          0.          0.          0.          0.          0.\n",
      "   0.          0.          0.          0.          0.          0.\n",
      "   0.          0.          0.          0.          0.          0.\n",
      "   0.          0.         12.16552506  0.         12.16552506  0.\n",
      "  12.16552506  0.         12.16552506  0.         12.16552506  0.\n",
      "  12.16552506  0.         12.16552506  0.         12.16552506  0.\n",
      "  12.16552506  0.         12.16552506  0.          0.          0.\n",
      "   0.          0.          0.          0.          0.          0.\n",
      "   0.          0.          0.          0.          0.          0.\n",
      "   0.          0.          0.          0.          0.          0.\n",
      "  12.16552506  0.         12.16552506  0.         12.16552506  0.\n",
      "  12.16552506  0.         12.16552506  0.         12.16552506  0.\n",
      "  12.16552506  0.         12.16552506  0.         12.16552506  0.\n",
      "  12.16552506  0.          0.          0.          0.          0.\n",
      "   0.          0.          0.          0.          0.          0.\n",
      "   0.          0.          0.          0.          0.          0.\n",
      "   0.          0.          0.          0.         12.16552506  0.\n",
      "  12.16552506  0.         12.16552506  0.         12.16552506  0.\n",
      "  12.16552506  0.         12.16552506  0.         12.16552506  0.\n",
      "  12.16552506  0.         12.16552506  0.         12.16552506  0.\n",
      "   0.          0.          0.          0.          0.          0.\n",
      "   0.          0.          0.          0.          0.          0.\n",
      "   0.          0.          0.          0.          0.          0.\n",
      "   0.          0.         12.16552506  0.         12.16552506  0.\n",
      "  12.16552506  0.         12.16552506  0.         12.16552506  0.\n",
      "  12.16552506  0.         12.16552506  0.         12.16552506  0.\n",
      "  12.16552506  0.         12.16552506  0.        ]]\n"
     ]
    }
   ],
   "source": [
    "#Create 20x20 distance matrix based on coordinates\n",
    "numpy_data = test_4.numpy()\n",
    "distance_matrix = np.zeros((20,20))\n",
    "\n",
    "for i in range(len(numpy_data)):\n",
    "    #Check that the joint is visible\n",
    "    if(numpy_data[i][0] != 0 and numpy_data[i][1] != 0):\n",
    "        #For each other joint in the frame\n",
    "        for j in range(len(numpy_data)):\n",
    "            #Check that the joint is visible\n",
    "            if(numpy_data[i][0] != 0 and numpy_data[i][0] != 0):\n",
    "                #Calculate distance between joint i and all joints j and add to matrix\n",
    "                distance_matrix[i,j] = math.sqrt((numpy_data[i][0] - numpy_data[j][0])**2 + (numpy_data[i][1] - numpy_data[j][1])**2)\n",
    "\n",
    "#Flatten list \n",
    "flattened_distances = np.reshape(distance_matrix, (1,400))\n",
    "print(flattened_distances.shape)\n",
    "print(flattened_distances)\n"
   ]
  },
  {
   "attachments": {},
   "cell_type": "markdown",
   "metadata": {},
   "source": [
    "# Prediction\n",
    "Predict what gesture the distances from the LE model shows"
   ]
  },
  {
   "cell_type": "code",
   "execution_count": 40,
   "metadata": {},
   "outputs": [
    {
     "name": "stdout",
     "output_type": "stream",
     "text": [
      "The predicted gesture from input data is: ASL_letter_C\n"
     ]
    }
   ],
   "source": [
    "#Get the actual gesture based on prediction number\n",
    "gestures = [\"ASL_letter_A\", \"ASL_letter_B\", \"ASL_letter_C\", \"ASL_letter_L\", \"ASL_letter_R\", \"ASL_letter_U\",\n",
    "\"ASL_letter_G\", \"ASL_letter_H\", \"ASL_letter_I\", \"ASL_letter_V\", \"ASL_letter_W\", \"ASL_letter_Y\"]\n",
    "\n",
    "# Load model\n",
    "file = open('finalized_SVM_model.sav', 'rb')\n",
    "GR_model = pickle.load(file)\n",
    "#print(GR_model.config)\n",
    "\n",
    "pred = GR_model.predict(flattened_distances)\n",
    "\n",
    "print(\"The predicted gesture from input data is:\", gestures[int(pred[0])])"
   ]
  }
 ],
 "metadata": {
  "kernelspec": {
   "display_name": "Python 3",
   "language": "python",
   "name": "python3"
  },
  "language_info": {
   "codemirror_mode": {
    "name": "ipython",
    "version": 3
   },
   "file_extension": ".py",
   "mimetype": "text/x-python",
   "name": "python",
   "nbconvert_exporter": "python",
   "pygments_lexer": "ipython3",
   "version": "3.8.10"
  },
  "orig_nbformat": 4,
  "vscode": {
   "interpreter": {
    "hash": "d9715d5cebc178f88e0caf2c89b711cf36aa4e6fdb9dfd147405e035895d72de"
   }
  }
 },
 "nbformat": 4,
 "nbformat_minor": 2
}
