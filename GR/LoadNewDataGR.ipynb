{
 "cells": [
  {
   "cell_type": "code",
   "execution_count": 1,
   "metadata": {},
   "outputs": [],
   "source": [
    "#Imports\n",
    "import torch\n",
    "import os\n",
    "import pandas as pd\n",
    "import numpy as np\n",
    "import math"
   ]
  },
  {
   "cell_type": "code",
   "execution_count": 2,
   "metadata": {},
   "outputs": [
    {
     "name": "stdout",
     "output_type": "stream",
     "text": [
      "(53193, 7)\n",
      "(46977, 7)\n",
      "(44730, 7)\n",
      "(52647, 7)\n",
      "(47145, 7)\n",
      "(53361, 7)\n"
     ]
    }
   ],
   "source": [
    "#Loop through directories in dataset_v0\n",
    "path_of_data_directory = \"../dataset_v0/\"\n",
    "\n",
    "annotations_G = pd.read_csv(os.path.join(path_of_data_directory, \"ASL_letter_G/annotations.csv\"))\n",
    "annotations_H = pd.read_csv(os.path.join(path_of_data_directory, \"ASL_letter_H/annotations.csv\"))\n",
    "annotations_I = pd.read_csv(os.path.join(path_of_data_directory, \"ASL_letter_I/annotations.csv\"))\n",
    "annotations_V = pd.read_csv(os.path.join(path_of_data_directory, \"ASL_letter_V/annotations.csv\"))\n",
    "annotations_W = pd.read_csv(os.path.join(path_of_data_directory, \"ASL_letter_W/annotations.csv\"))\n",
    "annotations_Y = pd.read_csv(os.path.join(path_of_data_directory, \"ASL_letter_Y/annotations.csv\"))\n",
    "\n",
    "annotations = [annotations_G, annotations_H, annotations_I, annotations_V, annotations_W, annotations_Y]\n",
    "\n",
    "print(annotations_G.shape)\n",
    "print(annotations_H.shape)\n",
    "print(annotations_I.shape)\n",
    "print(annotations_V.shape)\n",
    "print(annotations_W.shape)\n",
    "print(annotations_Y.shape)\n",
    "\n",
    "# G H I V W Y är på fel form"
   ]
  },
  {
   "cell_type": "code",
   "execution_count": 4,
   "metadata": {},
   "outputs": [
    {
     "name": "stdout",
     "output_type": "stream",
     "text": [
      "            gesture  frame          joint    x    y  person_idx  video_idx\n",
      "0      ASL_letter_G      0  hand_position  0.0  0.0       47981          0\n",
      "1      ASL_letter_G      1  hand_position  0.0  0.0       47981          0\n",
      "2      ASL_letter_G      2  hand_position  0.0  0.0       47981          0\n",
      "3      ASL_letter_G      3  hand_position  0.0  0.0       47981          0\n",
      "4      ASL_letter_G      4  hand_position  0.0  0.0       47981          0\n",
      "...             ...    ...            ...  ...  ...         ...        ...\n",
      "53188  ASL_letter_G    185        pinky_4  0.0  0.0       43460         10\n",
      "53189  ASL_letter_G    186        pinky_4  0.0  0.0       43460         10\n",
      "53190  ASL_letter_G    187        pinky_4  0.0  0.0       43460         10\n",
      "53191  ASL_letter_G    188        pinky_4  0.0  0.0       43460         10\n",
      "53192  ASL_letter_G    189        pinky_4  0.0  0.0       43460         10\n",
      "\n",
      "[53193 rows x 7 columns]\n",
      "            gesture  frame          joint           x           y  person_idx  \\\n",
      "0      ASL_letter_G      0  hand_position    0.000000    0.000000       47981   \n",
      "22333  ASL_letter_G      0         ring_4    0.000000    0.000000       56768   \n",
      "22415  ASL_letter_G      0        pinky_1  298.933333  451.733333       56768   \n",
      "22497  ASL_letter_G      0        pinky_2    0.000000    0.000000       56768   \n",
      "22579  ASL_letter_G      0        pinky_3    0.000000    0.000000       56768   \n",
      "...             ...    ...            ...         ...         ...         ...   \n",
      "35266  ASL_letter_G    432        pinky_3    0.000000    0.000000      246150   \n",
      "33101  ASL_letter_G    432         ring_2  987.744437  310.548874      246150   \n",
      "28771  ASL_letter_G    432        thumb_3  712.971104  283.668874      246150   \n",
      "33967  ASL_letter_G    432         ring_4    0.000000    0.000000      246150   \n",
      "32235  ASL_letter_G    432       middle_4    0.000000    0.000000      246150   \n",
      "\n",
      "       video_idx  \n",
      "0              0  \n",
      "22333          4  \n",
      "22415          4  \n",
      "22497          4  \n",
      "22579          4  \n",
      "...          ...  \n",
      "35266          6  \n",
      "33101          6  \n",
      "28771          6  \n",
      "33967          6  \n",
      "32235          6  \n",
      "\n",
      "[53193 rows x 7 columns]\n"
     ]
    }
   ],
   "source": [
    "print(annotations_G)\n",
    "sorted_G = annotations_G.sort_values(by=['frame'])\n",
    "print(sorted_G)\n",
    "\n",
    "sorter = ['root', 'thumb_1', 'thumb_2', 'thumb_3', 'index_1','index_2','index_3','index_4','middle_1','middle_2','middle_3','middle_4',\n",
    "'ring_1','ring_2','ring_3','ring_4','pinky_1','pinky_2','pinky_3','pinky_4']"
   ]
  }
 ],
 "metadata": {
  "kernelspec": {
   "display_name": "Python 3",
   "language": "python",
   "name": "python3"
  },
  "language_info": {
   "codemirror_mode": {
    "name": "ipython",
    "version": 3
   },
   "file_extension": ".py",
   "mimetype": "text/x-python",
   "name": "python",
   "nbconvert_exporter": "python",
   "pygments_lexer": "ipython3",
   "version": "3.8.10"
  },
  "orig_nbformat": 4,
  "vscode": {
   "interpreter": {
    "hash": "d9715d5cebc178f88e0caf2c89b711cf36aa4e6fdb9dfd147405e035895d72de"
   }
  }
 },
 "nbformat": 4,
 "nbformat_minor": 2
}
